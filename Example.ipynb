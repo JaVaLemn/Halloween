{
 "cells": [
  {
   "cell_type": "markdown",
   "id": "b8286ce9",
   "metadata": {},
   "source": [
    "## Halloween 🎃\n",
    "\n",
    "This is the example notebook for the Halloween session. Please do **not** commit changes to this Notebook, but create a copy (File -> Make a Copy) and then rename the notebook, so the namne includes your name. In the end you can then add your Notebook to the repository using\n",
    "\n",
    "```\n",
    "git add Names_Notebook.ipynb\n",
    "git commit -m 'Adding my notebook' .\n",
    "git push\n",
    "```\n",
    "\n",
    "Have fun!"
   ]
  },
  {
   "cell_type": "code",
   "execution_count": null,
   "id": "806d1c7c",
   "metadata": {},
   "outputs": [],
   "source": [
    "import time\n",
    "from IPython.display import clear_output\n",
    "from ltr559 import LTR559\n",
    "\n",
    "ltr559 = LTR559()"
   ]
  },
  {
   "cell_type": "markdown",
   "id": "304449bd",
   "metadata": {},
   "source": [
    "Proximity is part of the light sensor we already used. First lets make a loop and see the values we get. Click the stop button once you are done playing with the loop."
   ]
  },
  {
   "cell_type": "code",
   "execution_count": null,
   "id": "70d27473",
   "metadata": {},
   "outputs": [],
   "source": [
    "try:\n",
    "    while True:\n",
    "        ltr559.update_sensor()\n",
    "        prox = ltr559.get_proximity()\n",
    "        clear_output(wait=True)\n",
    "\n",
    "        print(prox)\n",
    "        time.sleep(0.05)\n",
    "        \n",
    "except KeyboardInterrupt:\n",
    "    pass"
   ]
  },
  {
   "cell_type": "markdown",
   "id": "16a2acf2",
   "metadata": {},
   "source": [
    "### Now let's make it spooky\n",
    "\n",
    "Here we have an image appear is something is close. First we get the needed modules for the LCD display. Also please upload all images you are planning to use to the `Images` folder. **Also make sure to use a unique image name, so we have no conflicts when merging.** Maybe use your name in it as well."
   ]
  },
  {
   "cell_type": "code",
   "execution_count": null,
   "id": "4a34cddf",
   "metadata": {},
   "outputs": [],
   "source": [
    "from PIL import Image\n",
    "import time\n",
    "import ST7735\n",
    "\n",
    "disp = ST7735.ST7735(port=0,cs=1,dc=9,backlight=12,rotation=270,spi_speed_hz=10000000)\n",
    "disp.begin()\n",
    "\n",
    "image = Image.open(\"Images/thomas-ghost.png\")\n",
    "\n",
    "# img1 is the image with the ghost\n",
    "img1 = Image.new('RGBA', (disp.width, disp.height))\n",
    "img1.paste(image,(10,0))\n",
    "disp.display(img1)\n",
    "\n",
    "# img2 is the image without the ghost\n",
    "img2 = Image.new('RGBA', (disp.width, disp.height))"
   ]
  },
  {
   "cell_type": "markdown",
   "id": "c6f6bd43",
   "metadata": {},
   "source": [
    "Now we use the same proximity loop and show or hide the ghost based on the value."
   ]
  },
  {
   "cell_type": "code",
   "execution_count": null,
   "id": "38bc7baa",
   "metadata": {},
   "outputs": [],
   "source": [
    "try:\n",
    "    while True:\n",
    "        ltr559.update_sensor()\n",
    "        prox = ltr559.get_proximity()\n",
    "\n",
    "        clear_output(wait=True)\n",
    "        print(prox)\n",
    "        \n",
    "        if(prox > 50):\n",
    "            disp.display(img1)\n",
    "        else:\n",
    "            disp.display(img2)\n",
    "        time.sleep(0.05)\n",
    "        \n",
    "except KeyboardInterrupt:\n",
    "    pass"
   ]
  },
  {
   "cell_type": "code",
   "execution_count": null,
   "id": "5e85b72d",
   "metadata": {},
   "outputs": [],
   "source": []
  }
 ],
 "metadata": {
  "kernelspec": {
   "display_name": "Python 3",
   "language": "python",
   "name": "python3"
  },
  "language_info": {
   "codemirror_mode": {
    "name": "ipython",
    "version": 3
   },
   "file_extension": ".py",
   "mimetype": "text/x-python",
   "name": "python",
   "nbconvert_exporter": "python",
   "pygments_lexer": "ipython3",
   "version": "3.7.3"
  }
 },
 "nbformat": 4,
 "nbformat_minor": 5
}
